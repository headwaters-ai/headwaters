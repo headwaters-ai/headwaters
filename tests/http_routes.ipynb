{
 "cells": [
  {
   "cell_type": "code",
   "execution_count": 1,
   "metadata": {},
   "outputs": [],
   "source": [
    "from requests import get, post, patch, delete\n",
    "url = \"http://127.0.0.1:5555\""
   ]
  },
  {
   "cell_type": "code",
   "execution_count": 47,
   "metadata": {},
   "outputs": [
    {
     "data": {
      "text/plain": [
       "{'pong': 60}"
      ]
     },
     "execution_count": 47,
     "metadata": {},
     "output_type": "execute_result"
    }
   ],
   "source": [
    "r = get(url + \"/ping\")\n",
    "r.json()"
   ]
  },
  {
   "cell_type": "code",
   "execution_count": 46,
   "metadata": {},
   "outputs": [
    {
     "name": "stdout",
     "output_type": "stream",
     "text": [
      "200 {'burst_freq': 100, 'burst_mode_active': False, 'burst_vol': 100, 'running': True, 'stream_freq': 2000, 'stream_name': 'fruits'}\n"
     ]
    }
   ],
   "source": [
    "params = {\"stream_name\": \"fruits\"}\n",
    "\n",
    "r = get(url + '/start', params=params)\n",
    "print(r.status_code, r.json())"
   ]
  },
  {
   "cell_type": "code",
   "execution_count": 125,
   "metadata": {},
   "outputs": [
    {
     "name": "stdout",
     "output_type": "stream",
     "text": [
      "200 {'burst_freq': 50, 'burst_mode_active': False, 'burst_vol': 20, 'running': False, 'stream_freq': 1000, 'stream_name': 'fruits'}\n"
     ]
    }
   ],
   "source": [
    "params = {\"stream_name\": \"fruits\"}\n",
    "\n",
    "r = get(url + '/stop', params=params)\n",
    "print(r.status_code, r.json())"
   ]
  },
  {
   "cell_type": "code",
   "execution_count": 122,
   "metadata": {},
   "outputs": [
    {
     "name": "stdout",
     "output_type": "stream",
     "text": [
      "200 {'burst_freq': 50, 'burst_mode_active': False, 'burst_vol': 20, 'running': True, 'stream_freq': 1000, 'stream_name': 'fruits'}\n"
     ]
    }
   ],
   "source": [
    "params = {\"stream_name\": 'fruits'}\n",
    "\n",
    "r = get(url + '/stream_status', params=params)\n",
    "\n",
    "print(r.status_code, r.json())"
   ]
  },
  {
   "cell_type": "code",
   "execution_count": 113,
   "metadata": {},
   "outputs": [
    {
     "name": "stdout",
     "output_type": "stream",
     "text": [
      "400 {'msg': \"missing key: 'stream_name'\"}\n"
     ]
    }
   ],
   "source": [
    "data = {\n",
    "    'stream_nae': 'fruits',\n",
    "    'new_freq': 289,\n",
    "}\n",
    "\n",
    "r = patch(url + '/freq', json=data)\n",
    "\n",
    "print(r.status_code, r.json())"
   ]
  },
  {
   "cell_type": "code",
   "execution_count": 80,
   "metadata": {},
   "outputs": [
    {
     "name": "stdout",
     "output_type": "stream",
     "text": [
      "400 {'msg': \"missing key: 'stream_name'\"}\n"
     ]
    }
   ],
   "source": [
    "data = {\n",
    "    'stream_nae': 'fruits',\n",
    "}\n",
    "\n",
    "r = patch(url + '/start_burst', json=data)\n",
    "\n",
    "print(r.status_code, r.json())"
   ]
  },
  {
   "cell_type": "code",
   "execution_count": 57,
   "metadata": {},
   "outputs": [
    {
     "name": "stdout",
     "output_type": "stream",
     "text": [
      "200 {'burst_freq': 100, 'burst_mode_active': True, 'burst_vol': 1000, 'running': True, 'stream_freq': 2000, 'stream_name': 'fruits'}\n"
     ]
    }
   ],
   "source": [
    "data = {\n",
    "    'stream_name': 'fruits',\n",
    "    'burst_freq': 100,\n",
    "}\n",
    "\n",
    "r = patch(url + '/burst_freq', json=data)\n",
    "\n",
    "print(r.status_code, r.json())"
   ]
  },
  {
   "cell_type": "code",
   "execution_count": 71,
   "metadata": {},
   "outputs": [
    {
     "name": "stdout",
     "output_type": "stream",
     "text": [
      "400 {'msg': \"TypeError: burst volume (burst_vol) must be of type int; supplied type was <class 'str'>\"}\n"
     ]
    }
   ],
   "source": [
    "data = {\n",
    "    'stream_name': 'fruits',\n",
    "    'burst_vol': 'test',\n",
    "}\n",
    "\n",
    "r = patch(url + '/burst_vol', json=data)\n",
    "\n",
    "print(r.status_code, r.json())"
   ]
  },
  {
   "cell_type": "code",
   "execution_count": 16,
   "metadata": {},
   "outputs": [
    {
     "data": {
      "text/plain": [
       "{'server': 'set_field complete'}"
      ]
     },
     "execution_count": 16,
     "metadata": {},
     "output_type": "execute_result"
    }
   ],
   "source": [
    "payload = {\n",
    "    \"source\": \"fruits\",\n",
    "    \"new_field\": \"stock\",\n",
    "    \"settings\" :{\n",
    "        \"stream\": {\n",
    "            \"type\": \"increment\",\n",
    "            \"default\": 0.999,\n",
    "            \"include\": True,\n",
    "            \"existing\": False\n",
    "        }\n",
    "    \n",
    "    }\n",
    "}\n",
    "\n",
    "r = post(url + \"/add_field\", json=payload)\n",
    "r.raise_for_status()\n",
    "r.json()"
   ]
  },
  {
   "cell_type": "code",
   "execution_count": 24,
   "metadata": {},
   "outputs": [
    {
     "name": "stdout",
     "output_type": "stream",
     "text": [
      "yes\n"
     ]
    }
   ],
   "source": [
    "a = 'soemthing'\n",
    "b = ''\n",
    "\n",
    "if not (a and b):\n",
    "    print('yes')\n",
    "else:\n",
    "    print('no')"
   ]
  },
  {
   "cell_type": "code",
   "execution_count": 13,
   "metadata": {},
   "outputs": [
    {
     "name": "stdout",
     "output_type": "stream",
     "text": [
      "{\n",
      "    \"shops\": [\n",
      "        {\n",
      "            \"shop_id\": 2,\n",
      "            \"address\": \"506 St John's Road\",\n",
      "            \"has_fridges\": false\n",
      "        },\n",
      "        {\n",
      "            \"shop_id\": 1,\n",
      "            \"address\": \"1 High Street\",\n",
      "            \"has_fridges\": true\n",
      "        }\n",
      "    ],\n",
      "    \"cust_id\": 87654,\n",
      "    \"cust_name\": \"Becky\",\n",
      "    \"cust_orders\": [\n",
      "        1234,\n",
      "        2345,\n",
      "        3456\n",
      "    ]\n",
      "}\n"
     ]
    }
   ],
   "source": [
    "import random\n",
    "import json\n",
    "\n",
    "\n",
    "\n",
    "new_event = {\n",
    "    \"customers\": [\n",
    "        {\n",
    "            \"cust_id\": 87654,\n",
    "            \"cust_name\": \"Becky\",\n",
    "            \"cust_orders\": [\n",
    "                1234,\n",
    "                2345,\n",
    "                3456\n",
    "            ]\n",
    "        }\n",
    "    ],\n",
    "    \"shops\": [\n",
    "        {\n",
    "            \"shop_id\": 2,\n",
    "            \"address\": \"506 St John's Road\",\n",
    "            \"has_fridges\": False\n",
    "        },\n",
    "        {\n",
    "            \"shop_id\": 1,\n",
    "            \"address\": \"1 High Street\",\n",
    "            \"has_fridges\": True\n",
    "        }\n",
    "    ],\n",
    "}\n",
    "\n",
    "def flatten(parent, child_key):\n",
    "    if len(parent[child_key]) > 1:\n",
    "        return parent\n",
    "    else:\n",
    "        outlist = []\n",
    "        for item in parent[child_key]:\n",
    "            parent.update(item)\n",
    "        parent.pop(child_key)\n",
    "\n",
    "        return parent\n",
    "\n",
    "result = flatten(new_event, \"customers\")\n",
    "\n",
    "print(json.dumps(result, indent=4))\n",
    "\n",
    "\n",
    "\n",
    "\n"
   ]
  },
  {
   "cell_type": "code",
   "execution_count": 20,
   "metadata": {},
   "outputs": [
    {
     "data": {
      "text/plain": [
       "1"
      ]
     },
     "execution_count": 20,
     "metadata": {},
     "output_type": "execute_result"
    }
   ],
   "source": [
    "d = {'a': 123}\n",
    "\n",
    "len(d)"
   ]
  }
 ],
 "metadata": {
  "interpreter": {
   "hash": "4ae67e1b340e4326e64effc8b8a98a5b2c1857ef9a89e0dad331898cca729314"
  },
  "kernelspec": {
   "display_name": "Python 3.10.0 ('headwaters-venv': venv)",
   "language": "python",
   "name": "python3"
  },
  "language_info": {
   "codemirror_mode": {
    "name": "ipython",
    "version": 3
   },
   "file_extension": ".py",
   "mimetype": "text/x-python",
   "name": "python",
   "nbconvert_exporter": "python",
   "pygments_lexer": "ipython3",
   "version": "3.10.0"
  },
  "orig_nbformat": 4
 },
 "nbformat": 4,
 "nbformat_minor": 2
}
