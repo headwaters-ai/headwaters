{
 "cells": [
  {
   "cell_type": "code",
   "execution_count": 1,
   "metadata": {},
   "outputs": [],
   "source": [
    "from requests import get, post, patch, delete\n",
    "url = \"http://127.0.0.1:5555\""
   ]
  },
  {
   "cell_type": "code",
   "execution_count": 47,
   "metadata": {},
   "outputs": [
    {
     "data": {
      "text/plain": [
       "{'pong': 60}"
      ]
     },
     "execution_count": 47,
     "metadata": {},
     "output_type": "execute_result"
    }
   ],
   "source": [
    "r = get(url + \"/ping\")\n",
    "r.json()"
   ]
  },
  {
   "cell_type": "code",
   "execution_count": 46,
   "metadata": {},
   "outputs": [
    {
     "name": "stdout",
     "output_type": "stream",
     "text": [
      "200 {'burst_freq': 100, 'burst_mode_active': False, 'burst_vol': 100, 'running': True, 'stream_freq': 2000, 'stream_name': 'fruits'}\n"
     ]
    }
   ],
   "source": [
    "params = {\"stream_name\": \"fruits\"}\n",
    "\n",
    "r = get(url + '/start', params=params)\n",
    "print(r.status_code, r.json())"
   ]
  },
  {
   "cell_type": "code",
   "execution_count": 125,
   "metadata": {},
   "outputs": [
    {
     "name": "stdout",
     "output_type": "stream",
     "text": [
      "200 {'burst_freq': 50, 'burst_mode_active': False, 'burst_vol': 20, 'running': False, 'stream_freq': 1000, 'stream_name': 'fruits'}\n"
     ]
    }
   ],
   "source": [
    "params = {\"stream_name\": \"fruits\"}\n",
    "\n",
    "r = get(url + '/stop', params=params)\n",
    "print(r.status_code, r.json())"
   ]
  },
  {
   "cell_type": "code",
   "execution_count": 122,
   "metadata": {},
   "outputs": [
    {
     "name": "stdout",
     "output_type": "stream",
     "text": [
      "200 {'burst_freq': 50, 'burst_mode_active': False, 'burst_vol': 20, 'running': True, 'stream_freq': 1000, 'stream_name': 'fruits'}\n"
     ]
    }
   ],
   "source": [
    "params = {\"stream_name\": 'fruits'}\n",
    "\n",
    "r = get(url + '/stream_status', params=params)\n",
    "\n",
    "print(r.status_code, r.json())"
   ]
  },
  {
   "cell_type": "code",
   "execution_count": 113,
   "metadata": {},
   "outputs": [
    {
     "name": "stdout",
     "output_type": "stream",
     "text": [
      "400 {'msg': \"missing key: 'stream_name'\"}\n"
     ]
    }
   ],
   "source": [
    "data = {\n",
    "    'stream_nae': 'fruits',\n",
    "    'new_freq': 289,\n",
    "}\n",
    "\n",
    "r = patch(url + '/freq', json=data)\n",
    "\n",
    "print(r.status_code, r.json())"
   ]
  },
  {
   "cell_type": "code",
   "execution_count": 80,
   "metadata": {},
   "outputs": [
    {
     "name": "stdout",
     "output_type": "stream",
     "text": [
      "400 {'msg': \"missing key: 'stream_name'\"}\n"
     ]
    }
   ],
   "source": [
    "data = {\n",
    "    'stream_nae': 'fruits',\n",
    "}\n",
    "\n",
    "r = patch(url + '/start_burst', json=data)\n",
    "\n",
    "print(r.status_code, r.json())"
   ]
  },
  {
   "cell_type": "code",
   "execution_count": 57,
   "metadata": {},
   "outputs": [
    {
     "name": "stdout",
     "output_type": "stream",
     "text": [
      "200 {'burst_freq': 100, 'burst_mode_active': True, 'burst_vol': 1000, 'running': True, 'stream_freq': 2000, 'stream_name': 'fruits'}\n"
     ]
    }
   ],
   "source": [
    "data = {\n",
    "    'stream_name': 'fruits',\n",
    "    'burst_freq': 100,\n",
    "}\n",
    "\n",
    "r = patch(url + '/burst_freq', json=data)\n",
    "\n",
    "print(r.status_code, r.json())"
   ]
  },
  {
   "cell_type": "code",
   "execution_count": 71,
   "metadata": {},
   "outputs": [
    {
     "name": "stdout",
     "output_type": "stream",
     "text": [
      "400 {'msg': \"TypeError: burst volume (burst_vol) must be of type int; supplied type was <class 'str'>\"}\n"
     ]
    }
   ],
   "source": [
    "data = {\n",
    "    'stream_name': 'fruits',\n",
    "    'burst_vol': 'test',\n",
    "}\n",
    "\n",
    "r = patch(url + '/burst_vol', json=data)\n",
    "\n",
    "print(r.status_code, r.json())"
   ]
  },
  {
   "cell_type": "code",
   "execution_count": 16,
   "metadata": {},
   "outputs": [
    {
     "data": {
      "text/plain": [
       "{'server': 'set_field complete'}"
      ]
     },
     "execution_count": 16,
     "metadata": {},
     "output_type": "execute_result"
    }
   ],
   "source": [
    "payload = {\n",
    "    \"source\": \"fruits\",\n",
    "    \"new_field\": \"stock\",\n",
    "    \"settings\" :{\n",
    "        \"stream\": {\n",
    "            \"type\": \"increment\",\n",
    "            \"default\": 0.999,\n",
    "            \"include\": True,\n",
    "            \"existing\": False\n",
    "        }\n",
    "    \n",
    "    }\n",
    "}\n",
    "\n",
    "r = post(url + \"/add_field\", json=payload)\n",
    "r.raise_for_status()\n",
    "r.json()"
   ]
  },
  {
   "cell_type": "code",
   "execution_count": 24,
   "metadata": {},
   "outputs": [
    {
     "name": "stdout",
     "output_type": "stream",
     "text": [
      "yes\n"
     ]
    }
   ],
   "source": [
    "a = 'soemthing'\n",
    "b = ''\n",
    "\n",
    "if not (a and b):\n",
    "    print('yes')\n",
    "else:\n",
    "    print('no')"
   ]
  },
  {
   "cell_type": "code",
   "execution_count": 52,
   "metadata": {},
   "outputs": [
    {
     "name": "stdout",
     "output_type": "stream",
     "text": [
      "customers\n",
      "shops\n"
     ]
    }
   ],
   "source": [
    "import random\n",
    "import json\n",
    "\n",
    "\n",
    "\n",
    "new_event = {\n",
    "    \"customers\": [\n",
    "        {\n",
    "            \"cust_id\": 87654,\n",
    "            \"cust_name\": \"Becky\",\n",
    "            \"cust_orders\": [\n",
    "                {\"order_no\": 1234},\n",
    "                {\"order_no\": 2345}\n",
    "            ],\n",
    "            \"timestamp\": [\n",
    "                {\n",
    "                    \"timestamp\": -2854433\n",
    "                }\n",
    "            ]\n",
    "        }\n",
    "    ],\n",
    "    \"shops\": [\n",
    "        {\n",
    "            \"shop_id\": 2,\n",
    "            \"address\": \"506 St John's Road\",\n",
    "            \"has_fridges\": False\n",
    "        },\n",
    "        {\n",
    "            \"shop_id\": 1,\n",
    "            \"address\": \"1 High Street\",\n",
    "            \"has_fridges\": True\n",
    "        }\n",
    "    ]\n",
    "}\n",
    "\n",
    "def flatten(parent, child_key):\n",
    "    if isinstance(parent, list):\n",
    "        print(\"it is a list:\")\n",
    "        print(f\"{parent}\")\n",
    "        if len(parent) > 1:\n",
    "            return parent\n",
    "        else:\n",
    "            outlist = []\n",
    "            for item in parent:\n",
    "                outlist.append(item)\n",
    "\n",
    "            return outlist\n",
    "    else:\n",
    "        print(\"not a list\")\n",
    "        if len(parent[child_key]) > 1:\n",
    "            return parent\n",
    "        else:\n",
    "            outlist = []\n",
    "            for item in parent[child_key]:\n",
    "                parent.update(item)\n",
    "            parent.pop(child_key)\n",
    "\n",
    "            return parent\n",
    "\n",
    "def _flatten(parent, key_to_flatten):\n",
    "    \"\"\" the purpose of this function is to:\n",
    "\n",
    "        - find any given key_to_flatten in the supplied dict,\n",
    "        - if the key:value it finds is not at the top level of the parent already,\n",
    "        - raise to top level of parent,\n",
    "        - return the new amended parent\n",
    "\n",
    "    \n",
    "    \n",
    "    \n",
    "    \"\"\"\n",
    "\n",
    "\n",
    "    # the assumption here is that parent is a dict\n",
    "    if isinstance(parent, dict):\n",
    "        # fuck it, i'm going to loop, recursion will come in time maybe\n",
    "        for parent_key in parent.keys():\n",
    "            # is the key_to_flatten already at the top level?\n",
    "            if \n",
    "        \n",
    "\n",
    "\n",
    "\n",
    "\n",
    "    else:\n",
    "        # the parent was not a dict, so just pass back what we were given with a scoff\n",
    "        print(f\"parent not a dict\")\n",
    "        return parent\n",
    "\n",
    "\n",
    "\n",
    "_flatten(new_event, \"customers\")\n"
   ]
  },
  {
   "cell_type": "code",
   "execution_count": 20,
   "metadata": {},
   "outputs": [
    {
     "data": {
      "text/plain": [
       "1"
      ]
     },
     "execution_count": 20,
     "metadata": {},
     "output_type": "execute_result"
    }
   ],
   "source": [
    "d = {'a': 123}\n",
    "\n",
    "len(d)"
   ]
  },
  {
   "cell_type": "code",
   "execution_count": 119,
   "metadata": {},
   "outputs": [
    {
     "name": "stdout",
     "output_type": "stream",
     "text": [
      "customers is a dict with a value of [{'cust_id': 87654, 'cust_name': 'Becky', 'cust_orders': [{'order_no': 1234}, {'order_no': 2345}], 'timestamp': [{'timestamp': -2854433}]}]\n",
      "run 1, items: dict_keys(['cust_id', 'cust_name', 'cust_orders', 'timestamp'])\n",
      "cust_id is a dict with a value of 87654\n",
      "cust_name is a dict with a value of Becky\n",
      "cust_orders is a dict with a value of [{'order_no': 1234}, {'order_no': 2345}]\n",
      "run 1, items: dict_keys(['order_no'])\n",
      "order_no is a dict with a value of 1234\n",
      "run 2, items: dict_keys(['order_no'])\n",
      "order_no is a dict with a value of 2345\n",
      "timestamp is a dict with a value of [{'timestamp': -2854433}]\n",
      "run 4, items: dict_keys(['timestamp'])\n",
      "timestamp is a dict with a value of -2854433\n",
      "shops is a dict with a value of [{'shop_id': 2, 'address': \"506 St John's Road\", 'has_fridges': False}, {'shop_id': 1, 'address': '1 High Street', 'has_fridges': True}]\n",
      "run 8, items: dict_keys(['shop_id', 'address', 'has_fridges'])\n",
      "shop_id is a dict with a value of 2\n",
      "address is a dict with a value of 506 St John's Road\n",
      "has_fridges is a dict with a value of False\n",
      "run 9, items: dict_keys(['shop_id', 'address', 'has_fridges'])\n",
      "shop_id is a dict with a value of 1\n",
      "address is a dict with a value of 1 High Street\n",
      "has_fridges is a dict with a value of True\n"
     ]
    }
   ],
   "source": [
    "new_event = {\n",
    "    \"customers\": [\n",
    "        {\n",
    "            \"cust_id\": 87654,\n",
    "            \"cust_name\": \"Becky\",\n",
    "            \"cust_orders\": [\n",
    "                {\"order_no\": 1234},\n",
    "                {\"order_no\": 2345}\n",
    "            ],\n",
    "            \"timestamp\": [\n",
    "                {\n",
    "                    \"timestamp\": -2854433\n",
    "                }\n",
    "            ]\n",
    "        }\n",
    "    ],\n",
    "    \"shops\": [\n",
    "        {\n",
    "            \"shop_id\": 2,\n",
    "            \"address\": \"506 St John's Road\",\n",
    "            \"has_fridges\": False\n",
    "        },\n",
    "        {\n",
    "            \"shop_id\": 1,\n",
    "            \"address\": \"1 High Street\",\n",
    "            \"has_fridges\": True\n",
    "        }\n",
    "    ]\n",
    "}\n",
    "\n",
    "def flatten_duplicate_sub_keys(parent):\n",
    "    \"\"\" this purpose of this function is to:\n",
    "    \n",
    "    - traverse the arbitary depth of parent\n",
    "    - identify any duplicate keys in sub dicts\n",
    "    - flatten the key and remove the duplicate\n",
    "\n",
    "    assumptions for now is...\n",
    "    \n",
    "    \"\"\"\n",
    "    # dicts cannot have duplicate keys \n",
    "    global counter\n",
    "\n",
    "    if isinstance(parent, list):\n",
    "        for item in parent:\n",
    "            print(f\"run {counter }, items: {item.keys()}\")\n",
    "            flatten_duplicate_sub_keys(item)\n",
    "        counter += 1\n",
    "\n",
    "    elif isinstance(parent, dict):\n",
    "        # print(f\"parent: {parent.keys()}\")\n",
    "        for key in parent.keys():\n",
    "            print(f\"{key} is a dict with a value of {parent[key]}\")\n",
    "            flatten_duplicate_sub_keys(parent[key])\n",
    "        counter += 1\n",
    "            \n",
    "    else:\n",
    "        # print(f\"{parent} not a list or dict\")\n",
    "        pass\n",
    "\n",
    "counter = 1\n",
    "\n",
    "flatten_duplicate_sub_keys(new_event)"
   ]
  },
  {
   "cell_type": "code",
   "execution_count": 82,
   "metadata": {},
   "outputs": [
    {
     "data": {
      "text/plain": [
       "{'aaa', 'bbb', 'ccc', 'ddd'}"
      ]
     },
     "execution_count": 82,
     "metadata": {},
     "output_type": "execute_result"
    }
   ],
   "source": [
    "a = ['aaa', 'bbb', 'ccc']\n",
    "b = ['ccc', 'aaa', 'ddd']\n",
    "\n",
    "set(a + b)"
   ]
  }
 ],
 "metadata": {
  "interpreter": {
   "hash": "4ae67e1b340e4326e64effc8b8a98a5b2c1857ef9a89e0dad331898cca729314"
  },
  "kernelspec": {
   "display_name": "Python 3.10.0 ('headwaters-venv': venv)",
   "language": "python",
   "name": "python3"
  },
  "language_info": {
   "codemirror_mode": {
    "name": "ipython",
    "version": 3
   },
   "file_extension": ".py",
   "mimetype": "text/x-python",
   "name": "python",
   "nbconvert_exporter": "python",
   "pygments_lexer": "ipython3",
   "version": "3.10.0"
  },
  "orig_nbformat": 4
 },
 "nbformat": 4,
 "nbformat_minor": 2
}
