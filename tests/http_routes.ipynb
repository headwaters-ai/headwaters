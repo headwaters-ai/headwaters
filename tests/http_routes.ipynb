{
 "cells": [
  {
   "cell_type": "code",
   "execution_count": 2,
   "metadata": {},
   "outputs": [],
   "source": [
    "from requests import get, post, put\n",
    "url = \"http://127.0.0.1:5000\""
   ]
  },
  {
   "cell_type": "code",
   "execution_count": 3,
   "metadata": {},
   "outputs": [
    {
     "data": {
      "text/plain": [
       "{'server': 'initiated burst for engine fruits with 30'}"
      ]
     },
     "execution_count": 3,
     "metadata": {},
     "output_type": "execute_result"
    }
   ],
   "source": [
    "r = get(url + \"/burst\")\n",
    "r.json()"
   ]
  },
  {
   "cell_type": "code",
   "execution_count": 16,
   "metadata": {},
   "outputs": [
    {
     "data": {
      "text/plain": [
       "{'server': 'set_field complete'}"
      ]
     },
     "execution_count": 16,
     "metadata": {},
     "output_type": "execute_result"
    }
   ],
   "source": [
    "payload = {\n",
    "    \"domain\": \"fruits\",\n",
    "    \"new_field\": \"stock\",\n",
    "    \"settings\" :{\n",
    "        \"stream\": {\n",
    "            \"type\": \"increment\",\n",
    "            \"default\": 0.999,\n",
    "            \"include\": True,\n",
    "            \"existing\": False\n",
    "        }\n",
    "    \n",
    "    }\n",
    "}\n",
    "\n",
    "r = post(url + \"/add_field\", json=payload)\n",
    "r.raise_for_status()\n",
    "r.json()"
   ]
  }
 ],
 "metadata": {
  "interpreter": {
   "hash": "4ae67e1b340e4326e64effc8b8a98a5b2c1857ef9a89e0dad331898cca729314"
  },
  "kernelspec": {
   "display_name": "Python 3.10.0 ('headwaters-venv': venv)",
   "language": "python",
   "name": "python3"
  },
  "language_info": {
   "codemirror_mode": {
    "name": "ipython",
    "version": 3
   },
   "file_extension": ".py",
   "mimetype": "text/x-python",
   "name": "python",
   "nbconvert_exporter": "python",
   "pygments_lexer": "ipython3",
   "version": "3.10.0"
  },
  "orig_nbformat": 4
 },
 "nbformat": 4,
 "nbformat_minor": 2
}
