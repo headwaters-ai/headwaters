{
 "cells": [
  {
   "cell_type": "code",
   "execution_count": 1,
   "metadata": {},
   "outputs": [],
   "source": [
    "from requests import get, post, patch, put, delete\n",
    "import json\n",
    "url = \"http://127.0.0.1:5555/api/v0\""
   ]
  },
  {
   "cell_type": "code",
   "execution_count": 2,
   "metadata": {},
   "outputs": [
    {
     "data": {
      "text/plain": [
       "{'pong': 74}"
      ]
     },
     "execution_count": 2,
     "metadata": {},
     "output_type": "execute_result"
    }
   ],
   "source": [
    "r = get(url + \"/ping\")\n",
    "r.json()"
   ]
  },
  {
   "cell_type": "code",
   "execution_count": 46,
   "metadata": {},
   "outputs": [
    {
     "name": "stdout",
     "output_type": "stream",
     "text": [
      "200 {'burst_freq': 100, 'burst_mode_active': False, 'burst_vol': 100, 'running': True, 'stream_freq': 2000, 'stream_name': 'fruits'}\n"
     ]
    }
   ],
   "source": [
    "params = {\"stream_name\": \"fruit_sales\"}\n",
    "\n",
    "r = get(url + '/start', params=params)\n",
    "print(r.status_code, r.json())"
   ]
  },
  {
   "cell_type": "code",
   "execution_count": 125,
   "metadata": {},
   "outputs": [
    {
     "name": "stdout",
     "output_type": "stream",
     "text": [
      "200 {'burst_freq': 50, 'burst_mode_active': False, 'burst_vol': 20, 'running': False, 'stream_freq': 1000, 'stream_name': 'fruits'}\n"
     ]
    }
   ],
   "source": [
    "params = {\"stream_name\": \"fruit_sales\"}\n",
    "\n",
    "r = get(url + '/stop', params=params)\n",
    "print(r.status_code, r.json())"
   ]
  },
  {
   "cell_type": "code",
   "execution_count": 56,
   "metadata": {},
   "outputs": [
    {
     "name": "stdout",
     "output_type": "stream",
     "text": [
      "200 {'burst_freq': 100, 'burst_mode_active': False, 'burst_vol': 100, 'running': True, 'stream_freq': 1000, 'stream_name': 'fruit_sales'}\n"
     ]
    }
   ],
   "source": [
    "params = {\"stream_name\": 'fruit_sales'}\n",
    "\n",
    "r = get(url + '/stream_status', params=params)\n",
    "\n",
    "print(r.status_code, r.json())"
   ]
  },
  {
   "cell_type": "code",
   "execution_count": 57,
   "metadata": {},
   "outputs": [
    {
     "name": "stdout",
     "output_type": "stream",
     "text": [
      "400 {'msg': \"missing key: 'stream_name'\"}\n"
     ]
    }
   ],
   "source": [
    "data = {\n",
    "    'stream_name': 'fruit_sales',\n",
    "    'new_freq': 289,\n",
    "}\n",
    "\n",
    "r = patch(url + '/freq', json=data)\n",
    "\n",
    "print(r.status_code, r.json())"
   ]
  },
  {
   "cell_type": "code",
   "execution_count": 80,
   "metadata": {},
   "outputs": [
    {
     "name": "stdout",
     "output_type": "stream",
     "text": [
      "400 {'msg': \"missing key: 'stream_name'\"}\n"
     ]
    }
   ],
   "source": [
    "data = {\n",
    "    'stream_name': 'fruit_sales',\n",
    "}\n",
    "\n",
    "r = patch(url + '/start_burst', json=data)\n",
    "\n",
    "print(r.status_code, r.json())"
   ]
  },
  {
   "cell_type": "code",
   "execution_count": 57,
   "metadata": {},
   "outputs": [
    {
     "name": "stdout",
     "output_type": "stream",
     "text": [
      "200 {'burst_freq': 100, 'burst_mode_active': True, 'burst_vol': 1000, 'running': True, 'stream_freq': 2000, 'stream_name': 'fruits'}\n"
     ]
    }
   ],
   "source": [
    "data = {\n",
    "    'stream_name': 'fruit_sales',\n",
    "    'burst_freq': 100,\n",
    "}\n",
    "\n",
    "r = patch(url + '/burst_freq', json=data)\n",
    "\n",
    "print(r.status_code, r.json())"
   ]
  },
  {
   "cell_type": "code",
   "execution_count": 60,
   "metadata": {},
   "outputs": [
    {
     "name": "stdout",
     "output_type": "stream",
     "text": [
      "400 {'msg': \"TypeError: burst volume (burst_vol) must be an integer; supplied type was <class 'str'>\"}\n"
     ]
    }
   ],
   "source": [
    "data = {\n",
    "    'stream_name': 'fruit_sales',\n",
    "    'burst_vol': 'test',\n",
    "}\n",
    "\n",
    "r = patch(url + '/burst_vol', json=data)\n",
    "\n",
    "print(r.status_code, r.json())"
   ]
  },
  {
   "cell_type": "code",
   "execution_count": null,
   "metadata": {},
   "outputs": [],
   "source": [
    "# API DESIGN\n",
    "\n",
    "r = get(url + '/source') # get the current state of all sources in 'source' array in server\n",
    "r = get(url + '/source', params={'stream_name': 'fruit_sales'}) # get the current state of 'fruit_sales' source \n",
    "r = patch(url + '/source', json={'patch payload'}) # make amendments to elements of an existing source instance, using set_source_element method\n",
    "r = put(url + '/source', json={'entire source object'}) # overwrite and exitinsg source ofnig with new, using set_source method\n",
    "r = post(url + '/source', json={'a new source instance'}) # create a new Source class instance and add to server 'sources' array\n",
    "r = delete(url + '/source', params={'stream_name': 'fruit_sales'}) # delete fruit_sales from the 'sources' array on server and anywhere else reuired"
   ]
  },
  {
   "cell_type": "code",
   "execution_count": 9,
   "metadata": {},
   "outputs": [
    {
     "name": "stdout",
     "output_type": "stream",
     "text": [
      "200\n",
      "{\n",
      "  \"data\": {\n",
      "    \"customers\": [\n",
      "      {\n",
      "        \"cust_id\": 98765,\n",
      "        \"cust_name\": \"Ben\"\n",
      "      },\n",
      "      {\n",
      "        \"cust_id\": 87654,\n",
      "        \"cust_name\": \"Becky\"\n",
      "      },\n",
      "      {\n",
      "        \"cust_id\": 76543,\n",
      "        \"cust_name\": \"Grace\"\n",
      "      },\n",
      "      {\n",
      "        \"cust_id\": 65432,\n",
      "        \"cust_name\": \"Harris\"\n",
      "      }\n",
      "    ],\n",
      "    \"products\": [\n",
      "      {\n",
      "        \"counter\": 1,\n",
      "        \"item_name\": \"apples\",\n",
      "        \"item_price\": 3.99,\n",
      "        \"sku\": 12345\n",
      "      },\n",
      "      {\n",
      "        \"counter\": 2,\n",
      "        \"item_name\": \"bananas\",\n",
      "        \"item_price\": 1.99,\n",
      "        \"sku\": 23456\n",
      "      },\n",
      "      {\n",
      "        \"counter\": 3,\n",
      "        \"item_name\": \"cherries\",\n",
      "        \"item_price\": 3.5,\n",
      "        \"sku\": 34567\n",
      "      },\n",
      "      {\n",
      "        \"counter\": 4,\n",
      "        \"item_name\": \"damsons\",\n",
      "        \"item_price\": 1.2,\n",
      "        \"sku\": 45678\n",
      "      },\n",
      "      {\n",
      "        \"counter\": 5,\n",
      "        \"item_name\": \"elderberries\",\n",
      "        \"item_price\": 5.0,\n",
      "        \"sku\": 56789\n",
      "      }\n",
      "    ],\n",
      "    \"shops\": [\n",
      "      {\n",
      "        \"address\": \"1 High Street\",\n",
      "        \"has_fridges\": true,\n",
      "        \"shop_id\": 1\n",
      "      },\n",
      "      {\n",
      "        \"address\": \"506 St John's Road\",\n",
      "        \"has_fridges\": true,\n",
      "        \"shop_id\": 2\n",
      "      },\n",
      "      {\n",
      "        \"address\": \"19 Achison Drive\",\n",
      "        \"has_fridges\": false,\n",
      "        \"shop_id\": 3\n",
      "      }\n",
      "    ]\n",
      "  },\n",
      "  \"errors\": {\n",
      "    \"key_error_prob\": 0.2,\n",
      "    \"key_errors\": false,\n",
      "    \"value_error_prob\": 1,\n",
      "    \"value_errors\": true\n",
      "  },\n",
      "  \"frequency\": {\n",
      "    \"base_freq\": 60000\n",
      "  },\n",
      "  \"schema\": {\n",
      "    \"counter\": {\n",
      "      \"build_from\": \"products.counter\",\n",
      "      \"create_method\": \"decr\",\n",
      "      \"create_type\": \"int\",\n",
      "      \"create_volume\": 1,\n",
      "      \"decr_by\": 1,\n",
      "      \"existing\": false,\n",
      "      \"insert_into\": [],\n",
      "      \"value_errors\": []\n",
      "    },\n",
      "    \"customers\": {\n",
      "      \"choose_keys\": [],\n",
      "      \"existing\": true,\n",
      "      \"flatten\": true,\n",
      "      \"select_method\": \"rand_choice\",\n",
      "      \"select_quantity\": 1,\n",
      "      \"value_errors\": [\n",
      "        \"type\"\n",
      "      ]\n",
      "    },\n",
      "    \"products\": {\n",
      "      \"choose_keys\": [],\n",
      "      \"existing\": true,\n",
      "      \"flatten\": false,\n",
      "      \"select_method\": \"rand_choice\",\n",
      "      \"select_quantity\": \"many\",\n",
      "      \"value_errors\": [\n",
      "        \"type\"\n",
      "      ]\n",
      "    },\n",
      "    \"shops\": {\n",
      "      \"choose_keys\": [],\n",
      "      \"existing\": true,\n",
      "      \"flatten\": false,\n",
      "      \"select_method\": \"rand_choice\",\n",
      "      \"select_quantity\": 1,\n",
      "      \"value_errors\": []\n",
      "    },\n",
      "    \"timestamp\": {\n",
      "      \"create_method\": \"rand\",\n",
      "      \"create_type\": \"int\",\n",
      "      \"create_volume\": 1,\n",
      "      \"existing\": false,\n",
      "      \"insert_into\": [],\n",
      "      \"int_max\": 12345000,\n",
      "      \"int_min\": -10000000,\n",
      "      \"value_errors\": []\n",
      "    },\n",
      "    \"volume_sold\": {\n",
      "      \"create_method\": \"rand\",\n",
      "      \"create_type\": \"int\",\n",
      "      \"create_volume\": 1,\n",
      "      \"existing\": false,\n",
      "      \"insert_into\": [\n",
      "        \"products\"\n",
      "      ],\n",
      "      \"int_min\": 1,\n",
      "      \"value_errors\": []\n",
      "    }\n",
      "  }\n",
      "}\n"
     ]
    }
   ],
   "source": [
    "params = {\n",
    "    'stream_name': 'fruit_sales'\n",
    "}\n",
    "\n",
    "r = get(url + '/source', params=params)\n",
    "\n",
    "print(r.status_code)\n",
    "print(json.dumps(r.json(), indent=2))"
   ]
  },
  {
   "cell_type": "code",
   "execution_count": 12,
   "metadata": {},
   "outputs": [
    {
     "name": "stdout",
     "output_type": "stream",
     "text": [
      "200\n",
      "{\n",
      "  \"key_error_prob\": 0.2,\n",
      "  \"key_errors\": false,\n",
      "  \"value_error_prob\": 0.2,\n",
      "  \"value_errors\": false\n",
      "}\n"
     ]
    }
   ],
   "source": [
    "data = {\n",
    "    \"stream_name\": \"fruit_sales\",\n",
    "    \"config_area\": \"error_mode\",\n",
    "    # \"field_name\": \"customers\",\n",
    "    \"setting\": \"value_errors\",\n",
    "    \"new_setting_val\": False\n",
    "}\n",
    "\n",
    "r = patch(url + \"/source\", json=data)\n",
    "print(r.status_code)\n",
    "print(json.dumps(r.json()['error_mode'], indent=2))\n"
   ]
  },
  {
   "cell_type": "code",
   "execution_count": 12,
   "metadata": {},
   "outputs": [
    {
     "name": "stdout",
     "output_type": "stream",
     "text": [
      "200\n",
      "{\n",
      "  \"choose_keys\": [],\n",
      "  \"existing\": true,\n",
      "  \"flatten\": false,\n",
      "  \"select_method\": \"rand_choice\",\n",
      "  \"select_quantity\": 6,\n",
      "  \"value_errors\": [\n",
      "    \"type\"\n",
      "  ]\n",
      "}\n"
     ]
    }
   ],
   "source": [
    "data = {\n",
    "    \"stream_name\": \"fruit_sales\",\n",
    "    \"config_area\": \"schema\",\n",
    "    \"field_name\": \"products\",\n",
    "    \"setting\": \"select_quantity\",\n",
    "    \"new_setting_val\": 6\n",
    "}\n",
    "\n",
    "r = patch(url + \"/source\", json=data)\n",
    "print(r.status_code)\n",
    "print(json.dumps(r.json()['schema']['products'], indent=2))"
   ]
  },
  {
   "cell_type": "code",
   "execution_count": 2,
   "metadata": {},
   "outputs": [
    {
     "name": "stdout",
     "output_type": "stream",
     "text": [
      "200\n",
      "{\n",
      "  \"choose_keys\": [],\n",
      "  \"existing\": true,\n",
      "  \"flatten\": false,\n",
      "  \"select_method\": \"rand_choice\",\n",
      "  \"select_quantity\": 1,\n",
      "  \"value_errors\": [\n",
      "    \"type\"\n",
      "  ]\n",
      "}\n"
     ]
    }
   ],
   "source": [
    "data = {\n",
    "    \"stream_name\": \"fruit_sales\",\n",
    "    \"config_area\": \"schema\",\n",
    "    \"field_name\": \"customers\",\n",
    "    \"setting\": \"flatten\",\n",
    "    \"new_setting_val\": False\n",
    "}\n",
    "\n",
    "r = patch(url + \"/source\", json=data)\n",
    "\n",
    "print(r.status_code)\n",
    "print(json.dumps(r.json()['schema']['customers'], indent=2))"
   ]
  },
  {
   "cell_type": "code",
   "execution_count": 8,
   "metadata": {},
   "outputs": [
    {
     "data": {
      "text/plain": [
       "{'item_name': 'elderberries', 'item_price': 5.0, 'sku': 56789}"
      ]
     },
     "execution_count": 8,
     "metadata": {},
     "output_type": "execute_result"
    }
   ],
   "source": [
    "products = [\n",
    "    {\"item_name\": \"apples\", \"item_price\": 3.99, \"sku\": 12345},\n",
    "    {\"item_name\": \"bananas\", \"item_price\": 1.99, \"sku\": 23456},\n",
    "    {\"item_name\": \"cherries\", \"item_price\": 3.50, \"sku\": 34567},\n",
    "    {\"item_name\": \"damsons\", \"item_price\": 1.20, \"sku\": 45678},\n",
    "    {\"item_name\": \"elderberries\", \"item_price\": 5.00, \"sku\": 56789},\n",
    "]\n",
    "\n",
    "i = 1\n",
    "products[-1]"
   ]
  },
  {
   "cell_type": "code",
   "execution_count": 7,
   "metadata": {},
   "outputs": [
    {
     "data": {
      "text/plain": [
       "['products', 'test', 'change']"
      ]
     },
     "execution_count": 7,
     "metadata": {},
     "output_type": "execute_result"
    }
   ],
   "source": [
    "word = \"products.test.change\"\n",
    "\n",
    "word.split('.')"
   ]
  },
  {
   "cell_type": "code",
   "execution_count": null,
   "metadata": {},
   "outputs": [],
   "source": []
  },
  {
   "cell_type": "code",
   "execution_count": null,
   "metadata": {},
   "outputs": [],
   "source": []
  }
 ],
 "metadata": {
  "interpreter": {
   "hash": "4ae67e1b340e4326e64effc8b8a98a5b2c1857ef9a89e0dad331898cca729314"
  },
  "kernelspec": {
   "display_name": "Python 3.10.0 ('headwaters-venv': venv)",
   "language": "python",
   "name": "python3"
  },
  "language_info": {
   "codemirror_mode": {
    "name": "ipython",
    "version": 3
   },
   "file_extension": ".py",
   "mimetype": "text/x-python",
   "name": "python",
   "nbconvert_exporter": "python",
   "pygments_lexer": "ipython3",
   "version": "3.10.0"
  },
  "orig_nbformat": 4
 },
 "nbformat": 4,
 "nbformat_minor": 2
}
